{
 "cells": [
  {
   "cell_type": "markdown",
   "metadata": {},
   "source": [
    "### Test Cases\n",
    "\n",
    "This notebook contains serval helper functions for testing the translator, and test cases for all types in different situations.\n",
    "\n",
    "First, import the other four notebooks."
   ]
  },
  {
   "cell_type": "code",
   "execution_count": 1,
   "metadata": {},
   "outputs": [],
   "source": [
    "%run scanner.ipynb\n",
    "%run procedure.ipynb\n",
    "%run predicate_parser.ipynb\n",
    "%run proposition_parser.ipynb"
   ]
  },
  {
   "cell_type": "markdown",
   "metadata": {},
   "source": [
    "Procedure `ast(s)` can print the basic structure of the input logic. It is helpful for identifying errors and understanding priorities."
   ]
  },
  {
   "cell_type": "code",
   "execution_count": 2,
   "metadata": {},
   "outputs": [],
   "source": [
    "def ast(s):\n",
    "    global src, pos;\n",
    "    src, pos = s, 0; getChar(); getSym();\n",
    "    return expression()"
   ]
  },
  {
   "cell_type": "code",
   "execution_count": 3,
   "metadata": {},
   "outputs": [],
   "source": [
    "def asterr(s):\n",
    "    try: ast(s); return ''\n",
    "    except Exception as e:\n",
    "        print(e); return str(e) "
   ]
  },
  {
   "cell_type": "markdown",
   "metadata": {},
   "source": [
    "Procedure `evaluate(s)` takes a string as input, and print the original string and translation results in separate lines."
   ]
  },
  {
   "cell_type": "code",
   "execution_count": 4,
   "metadata": {},
   "outputs": [],
   "source": [
    "def evaluate(s):\n",
    "    global ordinalCounter\n",
    "    try:\n",
    "        print(s + \" \\n\")\n",
    "        if type(ast(s)) in (int, bool): return ast(s)\n",
    "        ordinalCounter = -1\n",
    "        return ast(s).eval()\n",
    "    except Exception as e:\n",
    "        print(e); return str(e)"
   ]
  },
  {
   "cell_type": "markdown",
   "metadata": {},
   "source": [
    "**Cells below contain test cases for all logics covered in the project.**\n",
    "\n",
    "Symbols for copying:\n",
    "\n",
    "` '¬' | '∧' | '∨' | '→' | '⇒' | '≡' | '⇔' | '∀' | '∃' | '❙' | '•' | '(' | ')' | '=' | '≠' | ',' | '-' | '<' | '>' `\n",
    "\n",
    "**Note:**\n",
    "For the convenience of typing, we add some substitute symbols that can by typed directly for special logic operators.\n",
    "- not: ¬ / !\n",
    "- imply: ⇒ / → / => / ->\n",
    "- equivalence: ≡ / ⇔ / <=>\n",
    "- bar: ❙ / |\n",
    "- dot: • / ·\n",
    "\n",
    "Propositional logic cases first:"
   ]
  },
  {
   "cell_type": "code",
   "execution_count": 5,
   "metadata": {},
   "outputs": [],
   "source": [
    "### PROPOSITION TEST CASES\n",
    "### No error message \n",
    "\n",
    "# BASIC TESTCASES: \n",
    "# print(evaluate('¬ p'))\n",
    "# print(evaluate('p ∧ q'))\n",
    "# print(evaluate('true ∧ false'))\n",
    "# print(evaluate('p ∨ q'))\n",
    "# print(evaluate('true ∨ false'))\n",
    "# print(evaluate('q => p'))\n",
    "# print(evaluate('q -> p'))\n",
    "# print(evaluate('q → p'))\n",
    "# print(evaluate('q ≡ p'))\n",
    "# print(evaluate('true ≡ false'))"
   ]
  },
  {
   "cell_type": "code",
   "execution_count": 6,
   "metadata": {},
   "outputs": [],
   "source": [
    "### PROPOSITION TEST CASE\n",
    "### No error message \n",
    "\n",
    "# COMPLEX TESTCASE:\n",
    "# print(evaluate('(p ∧ (true ∧ (true ∧ false))) ≡ (true ∧ true)'))\n",
    "# print(evaluate('((false ⇒ r) ∨ ((¬ z) ∨ h)) ∧ (p ∨ true) ≡ (true ∧ p) ∨ (false ∨ true)'))\n",
    "# print(evaluate('((false ⇒ r) ∨ ((¬ z ∨ h))) ∧ (p ∨ true) ≡ (true ∧ p) ∨ (false ∨ true)'))\n",
    "# print(evaluate('p ⇒ q ≡ p ∨ q'))\n",
    "# print(evaluate('((p ∧ r) ∧ true) ∧ (false ∧ q) ≡ (true ∧ p) ∧ (false ∧ true)'))\n",
    "# print(evaluate('(p ∧ (k ∨ true)) ∧ (false ∧ q) ≡ (true ∧ p) ∧ (false ∧ true)'))\n",
    "# print(evaluate('(∀ x | R · T)'))\n",
    "# print(evaluate('p ∨ (q ⇒ p) ≡ q ⇒ p'))\n",
    "# print(evaluate('p ∧ (q -> r) ≡ p ⇒ q -> r'))\n",
    "# print(evaluate('p ⇒ q ≡ ¬ p ∨ q'))\n",
    "# print(evaluate('p ∨ (¬ p ∧ q) ≡ p ∨ q'))\n",
    "# print(evaluate('p ∨ (q ∨ r) ≡ (p ∨ q) ∨ (p ∨ r)'))\n",
    "# print(evaluate('p ∨ true ≡ true'))\n",
    "# print(evaluate('p ∨ false ≡ p'))\n",
    "# print(evaluate('p ∨ ¬ p'))\n",
    "# print(evaluate('p ∨ true ≡ true'))\n",
    "# print(evaluate('(p ∨ (true ∧ false)) ≡ (true ∧ true)'))\n",
    "# print(evaluate('false ≡ ¬ true'))\n",
    "# print(evaluate('¬ ((p ∨ (true ∧ (false ∨ true))) ≡ (true ∧ true))'))\n",
    "# print(evaluate('¬ (p ≡ q)'))\n",
    "# print(evaluate('(¬ ¬ p) ≡ p'))\n",
    "# print(evaluate('p ∨ (p ⇒ q) ≡ true'))"
   ]
  },
  {
   "cell_type": "code",
   "execution_count": 7,
   "metadata": {},
   "outputs": [],
   "source": [
    "### PROPOSITION TEST CASES\n",
    "### Error messages include\n",
    "\n",
    "# print(evaluate('p ∨ (q ∧ true ≡ false'))\n",
    "# ^ ) missing\n",
    "\n",
    "# print(evaluate('p ∨ (q ~ true ≡ false'))\n",
    "# ^ unexpected character\n",
    "\n",
    "# print(evaluate('p ∨ (q ∧ 35 ≡ false'))\n",
    "# ^ unexpected character\n",
    "\n",
    "# print(evaluate(''))\n",
    "# ^ expression expected"
   ]
  },
  {
   "cell_type": "markdown",
   "metadata": {},
   "source": [
    "Here are the test cases for predicate logic:"
   ]
  },
  {
   "cell_type": "code",
   "execution_count": 8,
   "metadata": {},
   "outputs": [],
   "source": [
    "### PREDICATE TEST CASES\n",
    "### No error message \n",
    "\n",
    "# BASIC TESTCASES:\n",
    "# print(evaluate('∀ x | R · T'))\n",
    "# print(evaluate('∃ x | R · T'))\n",
    "\n",
    "# COMPLEX TESTCASES:\n",
    "# print(evaluate('(∀ x ❙ Q ∧ R • P) ≡ (∀ x ❙ Q • R ∧ (p ∨ r))'))\n",
    "# print(evaluate('(∀ x ❙ p ∨ (p ⇒ q) • P))'))\n",
    "# print(evaluate('(∀ x | R · T) ≡ (∃ x ❙ Q • R ∧ (true ∨ r))'))"
   ]
  },
  {
   "cell_type": "code",
   "execution_count": 9,
   "metadata": {},
   "outputs": [],
   "source": [
    "### PREDICATE TEST CASES\n",
    "### Error messages include\n",
    "\n",
    "# print(evaluate('∃ x  R · T'))\n",
    "# ^ Bar expected\n",
    "\n",
    "# print(evaluate('∃ x | T'))\n",
    "# ^ Dot expected\n"
   ]
  },
  {
   "cell_type": "code",
   "execution_count": null,
   "metadata": {},
   "outputs": [],
   "source": []
  }
 ],
 "metadata": {
  "interpreter": {
   "hash": "aee8b7b246df8f9039afb4144a1f6fd8d2ca17a180786b69acc140d282b71a49"
  },
  "kernelspec": {
   "display_name": "Python 3 (ipykernel)",
   "language": "python",
   "name": "python3"
  },
  "language_info": {
   "codemirror_mode": {
    "name": "ipython",
    "version": 3
   },
   "file_extension": ".py",
   "mimetype": "text/x-python",
   "name": "python",
   "nbconvert_exporter": "python",
   "pygments_lexer": "ipython3",
   "version": "3.9.7"
  }
 },
 "nbformat": 4,
 "nbformat_minor": 2
}
