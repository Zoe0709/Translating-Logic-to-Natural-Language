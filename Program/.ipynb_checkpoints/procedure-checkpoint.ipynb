{
 "cells": [
  {
   "cell_type": "markdown",
   "metadata": {},
   "source": [
    "### Parser (Procedures only)\n",
    "\n",
    "Concrete grammar: \n",
    "\n",
    "    expression ::= relation [\"≡\" relation]\n",
    "    relation ::= term [ \"→\" term]\n",
    "    term ::= factor [ (\"∧\" | \"∨\" ) factor]\n",
    "    factor ::= identifier \n",
    "        | \"true\" \n",
    "        | \"false\" \n",
    "        | \"¬\" expression\n",
    "        | \"∀\" expression\n",
    "        | \"∃\" expression\n",
    "        | \"(\" expression \")\" "
   ]
  },
  {
   "cell_type": "markdown",
   "metadata": {},
   "source": [
    "Procedure `expression()` parses\n",
    "\n",
    "    expression(e) ::=\n",
    "        relation(e)\n",
    "        [ \"≡ relation(r) «e := Equiv(EQUIVALENT, e, r)» ]\n",
    "   \n",
    "\n",
    "and returns an abstract syntax tree node or raises an exception with the error."
   ]
  },
  {
   "cell_type": "code",
   "execution_count": null,
   "metadata": {},
   "outputs": [],
   "source": [
    "def expression():\n",
    "    if sym in (TRUE, FALSE, AND, OR, LPAREN, RPAREN, NOT, IDENT, EQUIVALENT, IMPLIES, FORALL, EXIST, BAR, DOT):\n",
    "        e = relation()\n",
    "        while sym == EQUIVALENT:\n",
    "            op = sym; getSym()\n",
    "            e = Equiv(op, e, relation())\n",
    "        return e\n",
    "    else: error(\"expression expected\")\n",
    "        "
   ]
  },
  {
   "cell_type": "markdown",
   "metadata": {},
   "source": [
    "Procedure `relation()` parses\n",
    "\n",
    "    relation(r) ::=\n",
    "        term(r)\n",
    "        [\"→\" term(t) «r := Imply(IMPLIES, r, t)» ]\n",
    "\n",
    "and returns an abstract syntax tree node."
   ]
  },
  {
   "cell_type": "code",
   "execution_count": null,
   "metadata": {},
   "outputs": [],
   "source": [
    "def relation():\n",
    "    r = term()\n",
    "    while sym == IMPLIES:\n",
    "        op = sym; getSym()\n",
    "        r = Imply(op, r, term())\n",
    "    return r\n"
   ]
  },
  {
   "cell_type": "markdown",
   "metadata": {},
   "source": [
    "Procedure `term()` parses\n",
    "\n",
    "    term(t) ::=\n",
    "        factor(t)\n",
    "        [\"∧\" factor(f) «r := And(AND, t, f)» |\n",
    "          \"∨\" factor(f) «r := Or(OR, t, f)» ]\n",
    "\n",
    "and returns an abstract syntax tree node."
   ]
  },
  {
   "cell_type": "code",
   "execution_count": null,
   "metadata": {},
   "outputs": [],
   "source": [
    "def term():\n",
    "    t = factor()\n",
    "    while sym in (AND, OR):\n",
    "        op = sym; getSym()\n",
    "        if op == AND:\n",
    "            t = And(op, t, factor())\n",
    "        elif op == OR:\n",
    "            t = Or(op, t, factor())\n",
    "    return t\n"
   ]
  },
  {
   "cell_type": "markdown",
   "metadata": {},
   "source": [
    "Procedure `factor()` parses\n",
    "\n",
    "    factor(f) ::=\n",
    "        identifier(name) «f := Ident(name)» |\n",
    "        \"true\" «f := true» |\n",
    "        \"false\" «f := false» |\n",
    "        \"not\" expression(f) «f := not f» |\n",
    "        \"forall\" expression(f) «f := forall f» |\n",
    "        \"exist\" expression(f) «f := exist f» |\n",
    "        \"(\" expression(f) \")\"\n",
    "        \n",
    "\n",
    "and returns an abstract syntax tree node or raises an exception with the error."
   ]
  },
  {
   "cell_type": "code",
   "execution_count": 4,
   "metadata": {},
   "outputs": [],
   "source": [
    "def factor():\n",
    "    if sym == TRUE: f = True; getSym()\n",
    "    elif sym == FALSE: f = False; getSym()\n",
    "    elif sym == LPAREN:\n",
    "        getSym(); f = expression()\n",
    "        if sym == RPAREN: getSym()\n",
    "        else: error(') missing')\n",
    "    elif sym == NOT:\n",
    "        getSym(); f = Not(NOT, expression())\n",
    "    elif sym == IDENT:\n",
    "        name = val; getSym()\n",
    "        f = Ident(name)\n",
    "    elif sym == FORALL:\n",
    "        getSym()\n",
    "        q = expression()\n",
    "        if sym != BAR:\n",
    "            error('Bar expected')\n",
    "        getSym(); r = expression()\n",
    "        if sym != DOT:\n",
    "            error('Dot expected')\n",
    "        getSym(); t = expression()\n",
    "        f = Forall(FORALL, q, r, t)\n",
    "    elif sym == EXIST:\n",
    "        getSym()\n",
    "        q = expression()\n",
    "        if sym != BAR:\n",
    "            error('Bar expected')\n",
    "        getSym(); r = expression()\n",
    "        if sym != DOT:\n",
    "            error('Dot expected')\n",
    "        getSym(); t = expression()\n",
    "        f = Exist(EXIST, q, r, t)\n",
    "    else: error('unexpected symbol')\n",
    "    return f \n"
   ]
  }
 ],
 "metadata": {
  "interpreter": {
   "hash": "aee8b7b246df8f9039afb4144a1f6fd8d2ca17a180786b69acc140d282b71a49"
  },
  "kernelspec": {
   "display_name": "Python 3 (ipykernel)",
   "language": "python",
   "name": "python3"
  },
  "language_info": {
   "codemirror_mode": {
    "name": "ipython",
    "version": 3
   },
   "file_extension": ".py",
   "mimetype": "text/x-python",
   "name": "python",
   "nbconvert_exporter": "python",
   "pygments_lexer": "ipython3",
   "version": "3.9.7"
  }
 },
 "nbformat": 4,
 "nbformat_minor": 2
}
