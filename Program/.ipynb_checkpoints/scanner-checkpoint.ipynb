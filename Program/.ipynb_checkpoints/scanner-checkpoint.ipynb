{
 "cells": [
  {
   "cell_type": "markdown",
   "metadata": {},
   "source": [
    "### Scanner\n",
    "\n",
    "This notebook contains the scanner of the logic to natural language translator. It reads the characters of the source consecutively and recognizes symbols they form:\n",
    "\n",
    "- Procedure `getChar()` reads the next character of gobal variable `src` into global variable `ch`. When it reaches the end, `ch` is set to `chr(0)`. The current position is maintained in the global variable `pos`. \n",
    "\n",
    "- Procedure `error(msg)` reports an error as position `pos`.\n",
    "\n",
    "- Procedure `getOrdinal()` increase the counter variable `ordinalCounter` by one each time it is called.\n",
    "\n",
    "- procedure `getSym()` reads the next symbol in `sym` and assigns it to variables sym and val. When it reaches the end, `sym` is set to `EOF`; if `sym` is `IDENT`, `val` is a string. \n"
   ]
  },
  {
   "cell_type": "code",
   "execution_count": 1,
   "metadata": {},
   "outputs": [],
   "source": [
    "def getChar():\n",
    "    global pos, ch\n",
    "    if pos < len(src): ch, pos = src[pos], pos + 1\n",
    "    else: ch, pos = chr(0), pos + 1\n",
    "\n",
    "def error(msg):\n",
    "    raise Exception(src + '\\n' + (pos - 1) * ' ' + '^ ' + msg)"
   ]
  },
  {
   "cell_type": "markdown",
   "metadata": {},
   "source": [
    "Procedure `getSym()` parses:\n",
    "    \n",
    "    symbol ::= (identifier | 'true' | 'false' | '¬' | '∧' | '∨' |\n",
    "            '→' | '≡' | '∀' | '∃' | '❙' | '•' | '(' | ')' | '=' | \n",
    "            '≠' | ',' | '-' | '<' | '>' )\n",
    "    identifier ::= letter {letter}\n",
    "    letter ::= 'a' | ... | 'z' | 'A' | ... | 'Z'\n",
    "    \n",
    "Identifiers can only be a single letter, either uppercase or lowercase."
   ]
  },
  {
   "cell_type": "code",
   "execution_count": 3,
   "metadata": {},
   "outputs": [],
   "source": [
    "IDENT = 0; TRUE = 1; FALSE = 2; NOT = 3; AND = 4; OR = 5\n",
    "IMPLIES = 6; EQUIVALENT = 7; INEQUIVALENT = 8; LPAREN = 9\n",
    "RPAREN = 10; EXIST = 11; FORALL = 12; EQUAL = 13; NOTEQUAL = 14\n",
    "SUM = 15; BAR = 16; DOT = 17; EOF = 18\n",
    "\n",
    "KEYWORDS = {'true': TRUE, 'false': FALSE}\n",
    "\n",
    "ordinalCounter = -1\n",
    "\n",
    "def getOrdinal():\n",
    "    global ordinalCounter\n",
    "    ordinalCounter += 1\n",
    "    return ''\n",
    "\n",
    "def getSym():\n",
    "    global sym, val\n",
    "    while ch in ' \\t\\r\\n': getChar()\n",
    "    pos0 = pos\n",
    "    if 'A' <= ch <= 'Z' or 'a' <= ch <= 'z':\n",
    "        start = pos - 1\n",
    "        while ('A' <= ch <= 'Z') or ('a' <= ch <= 'z'): getChar()\n",
    "        val = src[start: pos - 1]\n",
    "#         Multiple-letter identifiers allowed\n",
    "        sym = KEYWORDS[val] if val in KEYWORDS else IDENT\n",
    "#         Only single-letter identifiers allowed\n",
    "#         if val in KEYWORDS:\n",
    "#             sym = KEYWORDS[val]\n",
    "#         elif len(val) == 1:\n",
    "#             sym = IDENT\n",
    "#         else:\n",
    "#             error('only single letter identifier allowed')\n",
    "    elif ch in '¬!': getChar(); sym = NOT\n",
    "    elif ch == '∧': getChar(); sym = AND\n",
    "    elif ch == '∨': getChar(); sym = OR\n",
    "    elif ch in '⇒→': getChar(); sym = IMPLIES\n",
    "    elif ch in '⇔≡': getChar(); sym = EQUIVALENT\n",
    "    elif ch == '≢': getChar(); sym = INEQUIVALENT\n",
    "    elif ch == '≠': getChar(); sym = NOTEQUAL\n",
    "    elif ch == '-':\n",
    "            getChar()\n",
    "            if ch == '>': getChar(); sym = IMPLIES\n",
    "    elif ch == '=':\n",
    "            getChar()\n",
    "            if ch == '>': getChar(); sym = IMPLIES\n",
    "            else: getChar(); sym = EQUAL\n",
    "    elif ch == '<':\n",
    "            getChar()\n",
    "            if ch == '=': getChar(); \n",
    "            if ch == '>': getChar(); sym = EQUIVALENT\n",
    "    elif ch == '(': getChar(); sym = LPAREN\n",
    "    elif ch == ')': getChar(); sym = RPAREN\n",
    "    elif ch == '∀': getChar(); sym = FORALL\n",
    "    elif ch == '∃': getChar(); sym = EXIST\n",
    "    elif ch in '❙|': getChar(); sym = BAR\n",
    "    elif ch in '•·': getChar(); sym = DOT\n",
    "    elif ch == chr(0): sym = EOF\n",
    "    else: error('unexpected character')"
   ]
  },
  {
   "cell_type": "code",
   "execution_count": null,
   "metadata": {},
   "outputs": [],
   "source": []
  }
 ],
 "metadata": {
  "kernelspec": {
   "display_name": "Python 3 (ipykernel)",
   "language": "python",
   "name": "python3"
  },
  "language_info": {
   "codemirror_mode": {
    "name": "ipython",
    "version": 3
   },
   "file_extension": ".py",
   "mimetype": "text/x-python",
   "name": "python",
   "nbconvert_exporter": "python",
   "pygments_lexer": "ipython3",
   "version": "3.9.7"
  }
 },
 "nbformat": 4,
 "nbformat_minor": 2
}
