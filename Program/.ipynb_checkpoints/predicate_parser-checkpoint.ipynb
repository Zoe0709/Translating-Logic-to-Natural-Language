{
 "cells": [
  {
   "cell_type": "markdown",
   "metadata": {},
   "source": [
    "### Parser (Predicate logic only)\n",
    "   \n",
    "\n",
    "The abstract syntax tree consists of _nodes_ of following types:\n",
    "\n",
    "- **`bool`** for boolean constants\n",
    "- **`Ident(name)`** with `name` of type `str`, the identifier name\n",
    "- **`Forall(op, q, r, t)`** where `op` is `FORALL` and `q`, `r`, `t` are nodes for the parameter and statement arguments.\n",
    "- **`Exist(op, q, r, t)`** where `op` is `EXIST` and `q`, `r`, `t` are nodes for the parameter and statement arguments.\n",
    "\n",
    "\n",
    "    Predicate = \n",
    "            | Identifier\n",
    "            | Boolean\n",
    "            | Forall (Proposition | Predicate)\n",
    "            | Exist (Proposition | Predicate)\n",
    "\n",
    "\n",
    "In the abstract syntax tree, a constant is treated as a null-ary (parameterless) function, e.g. `∀ x | Q · R`, declares a null-ary function `x`, and \"call\" it."
   ]
  },
  {
   "cell_type": "code",
   "execution_count": null,
   "metadata": {},
   "outputs": [],
   "source": [
    "class Forall:\n",
    "    def __init__(self, op, q, r, t):\n",
    "        self.op, self.q, self.r, self.t = op, q, r, t\n",
    "    def __repr__(self):\n",
    "        return 'Forall(' + str(self.op) + ', ' + str(self.q) + ', ' + str(self.r) + ', ' + str(self.t) + ')'\n",
    "    def eval(self):\n",
    "        if type(self) == Forall:\n",
    "            if self.op == FORALL:\n",
    "                q = str(self.q)\n",
    "                r = str(self.r)\n",
    "                t = str(self.t)\n",
    "                if type(self.r) != bool:\n",
    "                    r = str(self.r.eval())\n",
    "                if type(self.t) != bool:\n",
    "                    t = str(self.t.eval())\n",
    "                return \" \\n\" + \"for all \" + q + \", if step: \" + r + \" returns true, then \" + t + \". \"\n",
    "            else: assert False\n",
    "        else: assert False \n"
   ]
  },
  {
   "cell_type": "code",
   "execution_count": 5,
   "metadata": {},
   "outputs": [],
   "source": [
    "class Exist:\n",
    "    def __init__(self, op, q, r, t):\n",
    "        self.op, self.q, self.r, self.t = op, q, r, t\n",
    "    def __repr__(self):\n",
    "        return 'Exist(' + str(self.op) + ', ' + str(self.q) + ', ' + str(self.r) + ', ' + str(self.t)+ ')'\n",
    "    def eval(self):\n",
    "        if type(self) == Exist:\n",
    "            if self.op == EXIST:\n",
    "                q = str(self.q) # q = str(self.q)\n",
    "                r = str(self.r)\n",
    "                t = str(self.t)\n",
    "                if type(self.r) != bool:\n",
    "                    r = str(self.r.eval())\n",
    "                if type(self.t) != bool:\n",
    "                    t = str(self.t.eval())\n",
    "                return \" \\n\" + \"exist an \" + q + \" that matches the following statements\" + \" \\n\" + \"Statement: \" + r + \", \" + \" \\n\" + \"Statement: \" + t + \". \"\n",
    "            else: assert False\n",
    "        else: assert False"
   ]
  }
 ],
 "metadata": {
  "kernelspec": {
   "display_name": "Python 3 (ipykernel)",
   "language": "python",
   "name": "python3"
  },
  "language_info": {
   "codemirror_mode": {
    "name": "ipython",
    "version": 3
   },
   "file_extension": ".py",
   "mimetype": "text/x-python",
   "name": "python",
   "nbconvert_exporter": "python",
   "pygments_lexer": "ipython3",
   "version": "3.9.7"
  }
 },
 "nbformat": 4,
 "nbformat_minor": 2
}
